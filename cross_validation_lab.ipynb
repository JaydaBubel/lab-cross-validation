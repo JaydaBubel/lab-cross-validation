{
  "nbformat": 4,
  "nbformat_minor": 0,
  "metadata": {
    "colab": {
      "provenance": [],
      "mount_file_id": "1NxAbAs5jiuA3VUoSK9Q2b5IGZ7sCjrNI",
      "authorship_tag": "ABX9TyO6eqNqyIZwIvO8L3TVIuyN",
      "include_colab_link": true
    },
    "kernelspec": {
      "name": "python3",
      "display_name": "Python 3"
    },
    "language_info": {
      "name": "python"
    }
  },
  "cells": [
    {
      "cell_type": "markdown",
      "metadata": {
        "id": "view-in-github",
        "colab_type": "text"
      },
      "source": [
        "<a href=\"https://colab.research.google.com/github/JaydaBubel/lab-cross-validation/blob/master/cross_validation_lab.ipynb\" target=\"_parent\"><img src=\"https://colab.research.google.com/assets/colab-badge.svg\" alt=\"Open In Colab\"/></a>"
      ]
    },
    {
      "cell_type": "markdown",
      "source": [
        "**Apply SMOTE for upsampling the data**\n",
        "\n",
        "Use logistic regression to fit the model and compute the accuracy of the model.\n",
        "Use decision tree classifier to fit the model and compute the accuracy of the model."
      ],
      "metadata": {
        "id": "8UezMJvm-Gxf"
      }
    },
    {
      "cell_type": "code",
      "source": [
        "import pandas as pd\n",
        "from sklearn.model_selection import train_test_split, cross_val_score\n",
        "from sklearn.preprocessing import StandardScaler\n",
        "from sklearn.linear_model import LogisticRegression\n",
        "from sklearn.tree import DecisionTreeClassifier\n",
        "from imblearn.over_sampling import SMOTE\n",
        "from imblearn.under_sampling import TomekLinks\n",
        "from sklearn.metrics import accuracy_score"
      ],
      "metadata": {
        "id": "C1-ACp2--cB1"
      },
      "execution_count": 15,
      "outputs": []
    },
    {
      "cell_type": "code",
      "source": [
        "data = pd.read_csv(\"/content/drive/MyDrive/Customer-Churn.csv\")\n",
        "from sklearn.model_selection import train_test_split\n",
        "X = pd.get_dummies(data.drop('Churn', axis=1))\n",
        "y = data['Churn']\n",
        "X_train, X_test, y_train, y_test = train_test_split(X, y, test_size=0.2, random_state=42, stratify=y)\n",
        "\n",
        "from imblearn.over_sampling import SMOTE\n",
        "smote = SMOTE()\n",
        "X_train, y_train = smote.fit_resample(X_train, y_train)\n",
        "y_train.value_counts()"
      ],
      "metadata": {
        "colab": {
          "base_uri": "https://localhost:8080/"
        },
        "id": "Idg7ToZ6E_Jr",
        "outputId": "dd055b2f-2093-4aa1-883a-c10a660a6668"
      },
      "execution_count": 27,
      "outputs": [
        {
          "output_type": "execute_result",
          "data": {
            "text/plain": [
              "No     4139\n",
              "Yes    4139\n",
              "Name: Churn, dtype: int64"
            ]
          },
          "metadata": {},
          "execution_count": 27
        }
      ]
    },
    {
      "cell_type": "markdown",
      "source": [
        "Compare the accuracies of the two models.\n",
        "Apply TomekLinks for downsampling."
      ],
      "metadata": {
        "id": "q9XvXK2sG7R5"
      }
    },
    {
      "cell_type": "code",
      "source": [
        "classification = LogisticRegression(random_state=42, max_iter=100000)\n",
        "classification.fit(X_train_resampled, y_train_resampled)\n",
        "\n",
        "lr_predictions = classification.predict(X_test)\n",
        "\n",
        "#accuracy of the lr model\n",
        "lr_accuracy = accuracy_score(y_test, lr_predictions)\n",
        "print(\"Logistic Regression accuracy:\", lr_accuracy)"
      ],
      "metadata": {
        "colab": {
          "base_uri": "https://localhost:8080/"
        },
        "id": "YLsayxk1_7iS",
        "outputId": "e5c4fe3a-549a-41db-e8fd-3993343e76db"
      },
      "execution_count": 32,
      "outputs": [
        {
          "output_type": "stream",
          "name": "stdout",
          "text": [
            "Logistic Regression accuracy: 0.7899219304471257\n"
          ]
        }
      ]
    },
    {
      "cell_type": "code",
      "source": [
        "#create and fit dtc model\n",
        "decision_tree_model = DecisionTreeClassifier(random_state=42)\n",
        "decision_tree_model.fit(X_train, y_train)\n",
        "y_pred = decision_tree_model.predict(X_test)\n",
        "#accuracy of the model\n",
        "accuracy = accuracy_score(y_test, y_pred)\n",
        "print(\"Accuracy of the Decision Tree Classifier:\", accuracy)"
      ],
      "metadata": {
        "colab": {
          "base_uri": "https://localhost:8080/"
        },
        "id": "JXbSGB-I-cdw",
        "outputId": "00ba96bf-0a24-4f99-f686-1147ca9e7748"
      },
      "execution_count": 33,
      "outputs": [
        {
          "output_type": "stream",
          "name": "stdout",
          "text": [
            "Accuracy of the Decision Tree Classifier: 0.7537260468417317\n"
          ]
        }
      ]
    },
    {
      "cell_type": "markdown",
      "source": [
        "The decision tree classifier has therefore a slightly lower accuracy in this case."
      ],
      "metadata": {
        "id": "MNmnucIiDcjn"
      }
    },
    {
      "cell_type": "code",
      "source": [
        "#apply TomekLinks\n",
        "tomek = TomekLinks()\n",
        "X_tl, y_tl = tomek.fit_resample(pd.get_dummies(data.drop('Churn', axis=1)), data['Churn'])\n",
        "y_tl.value_counts()"
      ],
      "metadata": {
        "colab": {
          "base_uri": "https://localhost:8080/"
        },
        "id": "Wp7i8nTmDQcD",
        "outputId": "f2a4c303-341e-420c-a34e-ec7bb103d474"
      },
      "execution_count": 36,
      "outputs": [
        {
          "output_type": "execute_result",
          "data": {
            "text/plain": [
              "No     4723\n",
              "Yes    1869\n",
              "Name: Churn, dtype: int64"
            ]
          },
          "metadata": {},
          "execution_count": 36
        }
      ]
    },
    {
      "cell_type": "markdown",
      "source": [
        "\n",
        "It is important to remember that it does not make the two classes equal but only removes the points from the majority class that are close to other points in minority class.\n",
        "Use logistic regression to fit the model and compute the accuracy of the model.\n",
        "Use decision tree classifier to fit the model and compute the accuracy of the model."
      ],
      "metadata": {
        "id": "GEyAJ1jr-W0C"
      }
    },
    {
      "cell_type": "code",
      "source": [
        "X_train_tl, X_test_tl, y_train_tl, y_test_tl = train_test_split(X_tl, y_tl, test_size=0.2, random_state=42)"
      ],
      "metadata": {
        "id": "DbCg_TIB-c9i"
      },
      "execution_count": 37,
      "outputs": []
    },
    {
      "cell_type": "markdown",
      "source": [
        "Compare the accuracies of the two models."
      ],
      "metadata": {
        "id": "hKy--1xQ-Zsx"
      }
    },
    {
      "cell_type": "code",
      "source": [
        "#lr\n",
        "logistic_model = LogisticRegression(max_iter=1000)  # Increase max_iter\n",
        "logistic_model.fit(X_train_tl, y_train_tl)\n",
        "logistic_accuracy = logistic_model.score(X_test_tl, y_test_tl)\n",
        "\n",
        "#dtc\n",
        "tree_model = DecisionTreeClassifier()\n",
        "tree_model.fit(X_train_tl, y_train_tl)\n",
        "tree_accuracy = tree_model.score(X_test_tl, y_test_tl)\n",
        "\n",
        "#compare the accuracies\n",
        "print(\"Logistic Regression Accuracy:\", logistic_accuracy)\n",
        "print(\"Decision Tree Classifier Accuracy:\", tree_accuracy)"
      ],
      "metadata": {
        "colab": {
          "base_uri": "https://localhost:8080/"
        },
        "id": "Fdh93qel-eHe",
        "outputId": "f734beff-2815-45e7-f4b1-2f21989b75c9"
      },
      "execution_count": 39,
      "outputs": [
        {
          "output_type": "stream",
          "name": "stdout",
          "text": [
            "Logistic Regression Accuracy: 0.8059135708870356\n",
            "Decision Tree Classifier Accuracy: 0.7998483699772555\n"
          ]
        }
      ]
    },
    {
      "cell_type": "code",
      "execution_count": 19,
      "metadata": {
        "id": "7sWiDOXM-C5e"
      },
      "outputs": [],
      "source": []
    }
  ]
}